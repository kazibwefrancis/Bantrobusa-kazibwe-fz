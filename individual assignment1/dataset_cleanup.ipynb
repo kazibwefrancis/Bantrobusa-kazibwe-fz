{
 "cells": [
  {
   "cell_type": "code",
   "execution_count": 3,
   "id": "d224a781",
   "metadata": {},
   "outputs": [
    {
     "name": "stdout",
     "output_type": "stream",
     "text": [
      "Datasets cleaned and saved as 'cleaned_Sales.csv' and 'cleaned_Mine.csv'\n"
     ]
    },
    {
     "name": "stderr",
     "output_type": "stream",
     "text": [
      "C:\\Users\\franc\\AppData\\Local\\Temp\\ipykernel_16704\\3079459903.py:13: FutureWarning: A value is trying to be set on a copy of a DataFrame or Series through chained assignment using an inplace method.\n",
      "The behavior will change in pandas 3.0. This inplace method will never work because the intermediate object on which we are setting values always behaves as a copy.\n",
      "\n",
      "For example, when doing 'df[col].method(value, inplace=True)', try using 'df.method({col: value}, inplace=True)' or df[col] = df[col].method(value) instead, to perform the operation inplace on the original object.\n",
      "\n",
      "\n",
      "  df[col].fillna(df[col].mean(), inplace=True)\n",
      "C:\\Users\\franc\\AppData\\Local\\Temp\\ipykernel_16704\\3079459903.py:11: FutureWarning: A value is trying to be set on a copy of a DataFrame or Series through chained assignment using an inplace method.\n",
      "The behavior will change in pandas 3.0. This inplace method will never work because the intermediate object on which we are setting values always behaves as a copy.\n",
      "\n",
      "For example, when doing 'df[col].method(value, inplace=True)', try using 'df.method({col: value}, inplace=True)' or df[col] = df[col].method(value) instead, to perform the operation inplace on the original object.\n",
      "\n",
      "\n",
      "  df[col].fillna(df[col].mode()[0], inplace=True)\n",
      "C:\\Users\\franc\\AppData\\Local\\Temp\\ipykernel_16704\\3079459903.py:13: FutureWarning: A value is trying to be set on a copy of a DataFrame or Series through chained assignment using an inplace method.\n",
      "The behavior will change in pandas 3.0. This inplace method will never work because the intermediate object on which we are setting values always behaves as a copy.\n",
      "\n",
      "For example, when doing 'df[col].method(value, inplace=True)', try using 'df.method({col: value}, inplace=True)' or df[col] = df[col].method(value) instead, to perform the operation inplace on the original object.\n",
      "\n",
      "\n",
      "  df[col].fillna(df[col].mean(), inplace=True)\n",
      "C:\\Users\\franc\\AppData\\Local\\Temp\\ipykernel_16704\\3079459903.py:11: FutureWarning: A value is trying to be set on a copy of a DataFrame or Series through chained assignment using an inplace method.\n",
      "The behavior will change in pandas 3.0. This inplace method will never work because the intermediate object on which we are setting values always behaves as a copy.\n",
      "\n",
      "For example, when doing 'df[col].method(value, inplace=True)', try using 'df.method({col: value}, inplace=True)' or df[col] = df[col].method(value) instead, to perform the operation inplace on the original object.\n",
      "\n",
      "\n",
      "  df[col].fillna(df[col].mode()[0], inplace=True)\n"
     ]
    }
   ],
   "source": [
    "import pandas as pd\n",
    "\n",
    "def load_datasets(file1, file2):\n",
    "    df1 = pd.read_csv(file1)\n",
    "    df2 = pd.read_csv(file2)\n",
    "    return df1, df2\n",
    "\n",
    "def handle_missing_values(df):\n",
    "    for col in df.columns:\n",
    "        if df[col].dtype == 'O':\n",
    "            df[col].fillna(df[col].mode()[0], inplace=True)\n",
    "        else:\n",
    "            df[col].fillna(df[col].mean(), inplace=True)\n",
    "    return df\n",
    "\n",
    "def standardize_dates(df):\n",
    "    date_cols = [col for col in df.columns if 'date' in col.lower()]\n",
    "    for col in date_cols:\n",
    "        df[col] = pd.to_datetime(df[col], errors='coerce').dt.strftime('%Y-%m-%d')\n",
    "    return df\n",
    "\n",
    "def remove_duplicates(df):\n",
    "    return df.drop_duplicates()\n",
    "\n",
    "def fix_wrong_data(df):\n",
    "    if 'age' in df.columns:\n",
    "        df = df[df['age'] >= 0]\n",
    "    return df\n",
    "\n",
    "def remove_unnecessary_columns(df, unnecessary_cols=None):\n",
    "    if unnecessary_cols is None:\n",
    "        unnecessary_cols = ['unnecessary', 'notes', 'misc']\n",
    "    df = df.drop([col for col in unnecessary_cols if col in df.columns], axis=1)\n",
    "    return df\n",
    "\n",
    "def clean_dataset(df):\n",
    "    df = handle_missing_values(df)\n",
    "    df = standardize_dates(df)\n",
    "    df = remove_duplicates(df)\n",
    "    df = fix_wrong_data(df)\n",
    "    df = remove_unnecessary_columns(df)\n",
    "    return df\n",
    "\n",
    "# Usage\n",
    "df1, df2 = load_datasets('Sales.csv', 'Mine.csv')\n",
    "df1_clean = clean_dataset(df1)\n",
    "df2_clean = clean_dataset(df2)\n",
    "\n",
    "df1_clean.to_csv('cleaned_Sales.csv', index=False)\n",
    "df2_clean.to_csv('cleaned_Mine.csv', index=False)\n",
    "\n",
    "print(\"Datasets cleaned and saved as 'cleaned_Sales.csv' and 'cleaned_Mine.csv'\")"
   ]
  }
 ],
 "metadata": {
  "kernelspec": {
   "display_name": "Python 3",
   "language": "python",
   "name": "python3"
  },
  "language_info": {
   "codemirror_mode": {
    "name": "ipython",
    "version": 3
   },
   "file_extension": ".py",
   "mimetype": "text/x-python",
   "name": "python",
   "nbconvert_exporter": "python",
   "pygments_lexer": "ipython3",
   "version": "3.13.3"
  }
 },
 "nbformat": 4,
 "nbformat_minor": 5
}
